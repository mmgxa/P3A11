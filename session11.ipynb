{
 "cells": [
  {
   "cell_type": "code",
   "execution_count": 1,
   "id": "870be0bd",
   "metadata": {},
   "outputs": [],
   "source": [
    "import math\n",
    "import pytest"
   ]
  },
  {
   "cell_type": "markdown",
   "id": "65069dde",
   "metadata": {},
   "source": [
    "# Question 1"
   ]
  },
  {
   "cell_type": "code",
   "execution_count": 2,
   "id": "f12dbd59",
   "metadata": {},
   "outputs": [],
   "source": [
    "class Polygon:\n",
    "    '''\n",
    "    A Polygon Class which is intitialized with number of edges and its circumradius.\n",
    "\n",
    "    Its properties such as interior angle, edge lengths, apothem, area, and perimeter are calculated,\n",
    "    and can be accessed as key (p['n_edge']) or as property (p.n_edge).\n",
    "\n",
    "    The former will give a soft warning and continue for a wrong key; the latter will halt if \n",
    "    the incorrect property is asked.\n",
    "    '''\n",
    "\n",
    "    def __init__(self, n_edge: int, circumradius: int) -> None:\n",
    "\n",
    "        if n_edge < 3:\n",
    "            raise ValueError(\n",
    "                'The number of edges must be atleast 3 for a Polygon!')\n",
    "\n",
    "        if circumradius < 0:\n",
    "            raise ValueError(\n",
    "                'The circumradius of a Polygon cannot be negative!')\n",
    "\n",
    "        self.n_edge_i = n_edge\n",
    "        self.circumradius_i = circumradius\n",
    "\n",
    "    @property\n",
    "    def n_edge(self) -> int:\n",
    "        return self.n_edge_i\n",
    "\n",
    "    @property\n",
    "    def circumradius(self) -> int:\n",
    "        return self.circumradius_i\n",
    "\n",
    "    @property\n",
    "    def int_angle(self) -> float:\n",
    "        return (self.n_edge - 2)*(180/self.n_edge)\n",
    "\n",
    "    @property\n",
    "    def edgelen(self) -> float:\n",
    "        return round(2*self.circumradius*math.sin(math.pi/self.n_edge), 2)\n",
    "\n",
    "    @property\n",
    "    def apothem(self) -> float:\n",
    "        return round(self.circumradius * math.cos(math.pi/self.n_edge), 2)\n",
    "\n",
    "    @property\n",
    "    def area(self) -> float:\n",
    "        return round(0.5*self.n_edge * self.edgelen * self.apothem, 2)\n",
    "\n",
    "    @property\n",
    "    def perimeter(self) -> float:\n",
    "        return round(self.n_edge * self.edgelen, 2)\n",
    "\n",
    "    def __getitem__(self, str):\n",
    "        '''\n",
    "        What to return when the properties of the object is passed as key \n",
    "        '''\n",
    "        try:\n",
    "            print(getattr(self, str))\n",
    "        except AttributeError:\n",
    "            print(\n",
    "                'Key must be one of these: n_edge/circumradius/int_angle/edgelen/apothem/area/perimeter')\n",
    "\n",
    "    def __repr__(self) -> str:\n",
    "        '''\n",
    "        How the output appears when the object is printed.\n",
    "        '''\n",
    "        return (f'Polygon Object with the following properties:' + f'\\n'\n",
    "                f'\\t' + f'{self.n_edge} sides,' + f'\\n'\n",
    "                f'\\t' + f'circumradius = {self.circumradius},' + f'\\n'\n",
    "                f'\\t' + f'Interior Angle : {self.int_angle},' + f'\\n'\n",
    "                f'\\t' + f'Edge Length : {self.edgelen},' + f'\\n'\n",
    "                f'\\t' + f'Apothem : {self.apothem},' + f'\\n'\n",
    "                f'\\t' + f'Area : {self.area},' + f'\\n'\n",
    "                f'\\t' + f'Perimeter : {self.perimeter}')\n",
    "\n",
    "    def __eq__(self, other):\n",
    "        '''\n",
    "        This compares two objects based on the Polygon Class based on their\n",
    "        number of edges and circumradius ...\n",
    "        '''\n",
    "        if not isinstance(other, Polygon):\n",
    "            raise TypeError(\n",
    "                f'Second argument: Expected {type(self)} ; Found {type(other)}')\n",
    "        return (self.n_edge == other.n_edge) and (self.circumradius == other.circumradius)\n",
    "\n",
    "    def __gt__(self, other):\n",
    "        '''\n",
    "        This compares two objects based on the Polygon Class based on their\n",
    "        number of edges only!\n",
    "        '''\n",
    "        if not isinstance(other, Polygon):\n",
    "            raise TypeError(\n",
    "                f'Second argument: Expected {type(self)} ; Found {type(other)}')\n",
    "        return self.n_edge > other.n_edge"
   ]
  },
  {
   "cell_type": "code",
   "execution_count": 3,
   "id": "6e10b811",
   "metadata": {},
   "outputs": [],
   "source": [
    "pol = Polygon(3, 3)"
   ]
  },
  {
   "cell_type": "markdown",
   "id": "e0c86a2e",
   "metadata": {},
   "source": [
    "## The `__repr__` function"
   ]
  },
  {
   "cell_type": "code",
   "execution_count": 4,
   "id": "f3d1ca7d",
   "metadata": {
    "scrolled": true
   },
   "outputs": [
    {
     "name": "stdout",
     "output_type": "stream",
     "text": [
      "Polygon Object with the following properties:\n",
      "\t3 sides,\n",
      "\tcircumradius = 3,\n",
      "\tInterior Angle : 60.0,\n",
      "\tEdge Length : 5.2,\n",
      "\tApothem : 1.5,\n",
      "\tArea : 11.7,\n",
      "\tPerimeter : 15.6\n"
     ]
    }
   ],
   "source": [
    "print(pol)"
   ]
  },
  {
   "cell_type": "markdown",
   "id": "f1b4b4d8",
   "metadata": {},
   "source": [
    "## The `__eq__` function"
   ]
  },
  {
   "cell_type": "code",
   "execution_count": 5,
   "id": "b92973de",
   "metadata": {},
   "outputs": [
    {
     "name": "stdout",
     "output_type": "stream",
     "text": [
      "True\n"
     ]
    }
   ],
   "source": [
    "pol1 = Polygon(3, 3)\n",
    "pol2 = Polygon(3, 3)\n",
    "print(pol1 == pol2)"
   ]
  },
  {
   "cell_type": "code",
   "execution_count": 6,
   "id": "efbc8371",
   "metadata": {},
   "outputs": [
    {
     "name": "stdout",
     "output_type": "stream",
     "text": [
      "False\n"
     ]
    }
   ],
   "source": [
    "pol1 = Polygon(3, 3)\n",
    "pol2 = Polygon(4, 3)\n",
    "print(pol1 == pol2)"
   ]
  },
  {
   "cell_type": "markdown",
   "id": "ee3f71d2",
   "metadata": {},
   "source": [
    "## The `__gt__` function"
   ]
  },
  {
   "cell_type": "code",
   "execution_count": 7,
   "id": "81858563",
   "metadata": {},
   "outputs": [
    {
     "name": "stdout",
     "output_type": "stream",
     "text": [
      "True\n"
     ]
    }
   ],
   "source": [
    "pol1 = Polygon(3, 3)\n",
    "pol2 = Polygon(4, 3)\n",
    "print(pol1 < pol2)"
   ]
  },
  {
   "cell_type": "code",
   "execution_count": 8,
   "id": "3a4b5aff",
   "metadata": {},
   "outputs": [
    {
     "name": "stdout",
     "output_type": "stream",
     "text": [
      "False\n"
     ]
    }
   ],
   "source": [
    "pol1 = Polygon(3, 3)\n",
    "pol2 = Polygon(4, 3)\n",
    "print(pol1 > pol2)"
   ]
  },
  {
   "cell_type": "markdown",
   "id": "84b52aa7",
   "metadata": {},
   "source": [
    "## Properties"
   ]
  },
  {
   "cell_type": "code",
   "execution_count": 9,
   "id": "78e14988",
   "metadata": {},
   "outputs": [
    {
     "name": "stdout",
     "output_type": "stream",
     "text": [
      "3\n",
      "3\n",
      "60.0\n",
      "5.2\n",
      "1.5\n",
      "11.7\n",
      "15.6\n"
     ]
    }
   ],
   "source": [
    "pol = Polygon(3, 3)\n",
    "for prop in ['n_edge', 'circumradius', 'int_angle', 'edgelen', 'apothem', 'area', 'perimeter']:\n",
    "    print(getattr(pol, prop))"
   ]
  },
  {
   "cell_type": "markdown",
   "id": "7e0691b7",
   "metadata": {},
   "source": [
    "## Test Cases"
   ]
  },
  {
   "cell_type": "code",
   "execution_count": 10,
   "id": "d1b9568c",
   "metadata": {},
   "outputs": [],
   "source": [
    "def test_class():\n",
    "    pol1 = Polygon(3, 3)\n",
    "    pol2 = Polygon(3, 3)\n",
    "    pol3 = Polygon(4, 3)\n",
    "    assert str(pol1), \"Your repr function is missing\"\n",
    "    assert pol1 == pol2, 'Your equality function is bogus'\n",
    "    assert pol2 != pol3, 'Your equality function is bogus'\n",
    "    assert pol2 < pol3, 'Your greater function is bogus'\n",
    "    assert (pol2 > pol3) == False, 'Your greater function is bogus'\n",
    "    for prop in ['n_edge', 'circumradius', 'int_angle', 'edgelen', 'apothem', 'area', 'perimeter']:\n",
    "        assert getattr(\n",
    "            pol1, prop), 'At least one of the required attributes is missing!'\n",
    "    \n"
   ]
  },
  {
   "cell_type": "code",
   "execution_count": 11,
   "id": "b8943018",
   "metadata": {},
   "outputs": [],
   "source": [
    "test_class()"
   ]
  },
  {
   "cell_type": "markdown",
   "id": "67fd2f73",
   "metadata": {},
   "source": [
    "# Question 2"
   ]
  },
  {
   "cell_type": "code",
   "execution_count": 12,
   "id": "bb4cec0e",
   "metadata": {},
   "outputs": [],
   "source": [
    "class PolySeq():\n",
    "    def __init__(self, max_edges: int, common_circumradius: int):\n",
    "\n",
    "        if max_edges < 3:\n",
    "            raise ValueError(\n",
    "                'The maximum number of edges must be atleast 3 for any Polygon!')\n",
    "\n",
    "        if common_circumradius <= 0:\n",
    "            raise ValueError(\n",
    "                'The common circumradius of a Polygon cannot be negative!')\n",
    "\n",
    "        self.max_edges = max_edges\n",
    "        self.common_circumradius = common_circumradius\n",
    "\n",
    "        self.polygons = []\n",
    "        self.polygons_area_perim = []\n",
    "        for i in range(3, max_edges + 1):  # +1 to make it inclusive!\n",
    "            p = Polygon(i, common_circumradius)\n",
    "            self.polygons.append(p)\n",
    "            self.polygons_area_perim.append(p.area / p.perimeter)\n",
    "\n",
    "    def __len__(self):\n",
    "        return len(self.polygons)\n",
    "\n",
    "    def __getitem__(self, item):\n",
    "        '''\n",
    "        What to return when the properties of the object is passed as key \n",
    "        '''\n",
    "        if item <= len(self.polygons) - 1:\n",
    "            return self.polygons[item]\n",
    "        else:\n",
    "            raise ValueError('CustomPolygon: incorrect index of item')\n",
    "\n",
    "    def __repr__(self) -> str:\n",
    "        '''\n",
    "        How the output appears when the object is printed.\n",
    "        '''\n",
    "        return (f'This Polygon Sequence contains polygons with the following properties:' + f'\\n'\n",
    "                f'\\t' + f'Sides: From 3 to {self.max_edges},' + f'\\n'\n",
    "                f'\\t' + f'Common circumradius = {self.common_circumradius},')\n",
    "\n",
    "    @property\n",
    "    def max_effic(self):\n",
    "        return self.polygons[self.polygons_area_perim.index(max(self.polygons_area_perim))]\n",
    "\n",
    "    def __iter__(self):\n",
    "        '''\n",
    "        This method was added for this week's asignment. It returns the iterator sub-class\n",
    "        '''\n",
    "        return self.PolySeqIter(self)\n",
    "\n",
    "    class PolySeqIter:\n",
    "        '''\n",
    "        This is an iterator implemented as a sub-class\n",
    "        '''\n",
    "\n",
    "        def __init__(self, poly):\n",
    "            self.poly = poly\n",
    "            self.i = 0\n",
    "\n",
    "        def __iter__(self):\n",
    "            return self\n",
    "\n",
    "        def __next__(self):\n",
    "            if self.i >= len(self.poly):\n",
    "                raise StopIteration\n",
    "            else:\n",
    "                item = self.poly.polygons[self.i]\n",
    "                self.i += 1\n",
    "                return item"
   ]
  },
  {
   "cell_type": "code",
   "execution_count": 13,
   "id": "30a05a8a",
   "metadata": {},
   "outputs": [],
   "source": [
    "polseq = PolySeq(25, 15)"
   ]
  },
  {
   "cell_type": "markdown",
   "id": "f2582dce",
   "metadata": {},
   "source": [
    "## The `__repr__` function"
   ]
  },
  {
   "cell_type": "code",
   "execution_count": 14,
   "id": "e0c13a28",
   "metadata": {
    "scrolled": true
   },
   "outputs": [
    {
     "name": "stdout",
     "output_type": "stream",
     "text": [
      "This Polygon Sequence contains polygons with the following properties:\n",
      "\tSides: From 3 to 25,\n",
      "\tCommon circumradius = 15,\n"
     ]
    }
   ],
   "source": [
    "print(polseq)"
   ]
  },
  {
   "cell_type": "markdown",
   "id": "80b63635",
   "metadata": {},
   "source": [
    "## The `__getitem__` function"
   ]
  },
  {
   "cell_type": "code",
   "execution_count": 15,
   "id": "ac1ead4d",
   "metadata": {
    "scrolled": true
   },
   "outputs": [
    {
     "name": "stdout",
     "output_type": "stream",
     "text": [
      "Polygon Object with the following properties:\n",
      "\t13 sides,\n",
      "\tcircumradius = 15,\n",
      "\tInterior Angle : 152.30769230769232,\n",
      "\tEdge Length : 7.18,\n",
      "\tApothem : 14.56,\n",
      "\tArea : 679.52,\n",
      "\tPerimeter : 93.34\n"
     ]
    }
   ],
   "source": [
    "print(polseq[10])"
   ]
  },
  {
   "cell_type": "markdown",
   "id": "8032e5a1",
   "metadata": {},
   "source": [
    "## The `__len__` function"
   ]
  },
  {
   "cell_type": "code",
   "execution_count": 16,
   "id": "66d99d18",
   "metadata": {},
   "outputs": [
    {
     "name": "stdout",
     "output_type": "stream",
     "text": [
      "23\n"
     ]
    }
   ],
   "source": [
    "print(len(polseq))"
   ]
  },
  {
   "cell_type": "markdown",
   "id": "fda9e5fa",
   "metadata": {},
   "source": [
    "## Properties"
   ]
  },
  {
   "cell_type": "code",
   "execution_count": 17,
   "id": "1a658208",
   "metadata": {},
   "outputs": [
    {
     "name": "stdout",
     "output_type": "stream",
     "text": [
      "Polygon Object with the following properties:\n",
      "\t25 sides,\n",
      "\tcircumradius = 15,\n",
      "\tInterior Angle : 165.6,\n",
      "\tEdge Length : 3.76,\n",
      "\tApothem : 14.88,\n",
      "\tArea : 699.36,\n",
      "\tPerimeter : 94.0\n"
     ]
    }
   ],
   "source": [
    "print(getattr(polseq, 'max_effic'))"
   ]
  },
  {
   "cell_type": "markdown",
   "id": "efd76a1e",
   "metadata": {},
   "source": [
    "## Test Cases"
   ]
  },
  {
   "cell_type": "code",
   "execution_count": 18,
   "id": "e2eaed02",
   "metadata": {},
   "outputs": [],
   "source": [
    "def test_seq():\n",
    "    polseq = PolySeq(25, 15)\n",
    "    assert str(polseq), \"Your repr function is missing\"\n",
    "    assert len(polseq), \"Your len function is missing\"\n",
    "    assert polseq[0], \"Your len function is missing\"\n",
    "    assert getattr(\n",
    "        polseq, 'max_effic'), 'The maximum efficiency property is missing!'\n"
   ]
  },
  {
   "cell_type": "code",
   "execution_count": 19,
   "id": "c6099754",
   "metadata": {},
   "outputs": [],
   "source": [
    "test_seq()"
   ]
  },
  {
   "cell_type": "markdown",
   "id": "a03b1c45",
   "metadata": {},
   "source": [
    "## Iterators and Iterables"
   ]
  },
  {
   "cell_type": "code",
   "execution_count": 20,
   "id": "ccf85811",
   "metadata": {},
   "outputs": [],
   "source": [
    "def test_seq_iterable():\n",
    "    polseq = PolySeq(3, 3)\n",
    "    try:\n",
    "        iter(polseq)\n",
    "    except:\n",
    "        assert False, 'Your Polygon Sequence for this week must be an iterable'\n",
    "        \n",
    "def test_seq_iterator():\n",
    "    polseq = PolySeq(3, 3)\n",
    "    try:\n",
    "        next(iter(polseq))\n",
    "    except:\n",
    "        assert False, 'Your Polygon Sequence for this week must be an iterator'"
   ]
  },
  {
   "cell_type": "code",
   "execution_count": 21,
   "id": "de73d1b3",
   "metadata": {},
   "outputs": [],
   "source": [
    "test_seq_iterable()"
   ]
  },
  {
   "cell_type": "code",
   "execution_count": 22,
   "id": "b14ee831",
   "metadata": {},
   "outputs": [],
   "source": [
    "test_seq_iterator()"
   ]
  }
 ],
 "metadata": {
  "kernelspec": {
   "display_name": "default",
   "language": "python",
   "name": "python3"
  },
  "language_info": {
   "codemirror_mode": {
    "name": "ipython",
    "version": 3
   },
   "file_extension": ".py",
   "mimetype": "text/x-python",
   "name": "python",
   "nbconvert_exporter": "python",
   "pygments_lexer": "ipython3",
   "version": "3.8.10"
  }
 },
 "nbformat": 4,
 "nbformat_minor": 5
}
